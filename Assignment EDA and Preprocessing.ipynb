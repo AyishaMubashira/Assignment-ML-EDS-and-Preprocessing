{
 "cells": [
  {
   "cell_type": "markdown",
   "id": "84b59d16-f3dd-480f-890b-91c421164f18",
   "metadata": {},
   "source": [
    "###### EDA AND PREPROCESSING"
   ]
  },
  {
   "cell_type": "code",
   "execution_count": 240,
   "id": "70178b93-830a-407b-ba4e-3b76ab94f38b",
   "metadata": {},
   "outputs": [],
   "source": [
    "import numpy as np\n",
    "import pandas as pd\n",
    "import matplotlib.pyplot as plt\n",
    "import seaborn as sns"
   ]
  },
  {
   "cell_type": "code",
   "execution_count": null,
   "id": "a6c31f56-0db3-4b7a-91a7-995b1f1f8abf",
   "metadata": {},
   "outputs": [],
   "source": [
    "#The main objective of this project is to design and implement data preprocessing system .\n",
    "#By performing effective data preprocessing the project aims to enhance the quality reliability and usefullness of the data for Machine learning"
   ]
  },
  {
   "cell_type": "code",
   "execution_count": null,
   "id": "b3a327d5-baad-437e-9b5f-40f10804c8a2",
   "metadata": {},
   "outputs": [],
   "source": [
    "#The dataset employee.csv contains the details of employees "
   ]
  },
  {
   "cell_type": "markdown",
   "id": "ea3ff170-9ac5-4335-a5e6-5a96dc30fc91",
   "metadata": {},
   "source": [
    "##### DATA EXPLORATION"
   ]
  },
  {
   "cell_type": "code",
   "execution_count": null,
   "id": "673583a0-11fc-410c-94ca-9654c40d3246",
   "metadata": {},
   "outputs": [],
   "source": [
    "#Explore the data, list down the unique values in each feature and find its length.\n",
    "#Perform the statistical analysis and renaming of the columns."
   ]
  },
  {
   "cell_type": "code",
   "execution_count": 246,
   "id": "ddaea8cb-c02e-4568-a124-3cdf16cac565",
   "metadata": {},
   "outputs": [
    {
     "data": {
      "text/html": [
       "<div>\n",
       "<style scoped>\n",
       "    .dataframe tbody tr th:only-of-type {\n",
       "        vertical-align: middle;\n",
       "    }\n",
       "\n",
       "    .dataframe tbody tr th {\n",
       "        vertical-align: top;\n",
       "    }\n",
       "\n",
       "    .dataframe thead th {\n",
       "        text-align: right;\n",
       "    }\n",
       "</style>\n",
       "<table border=\"1\" class=\"dataframe\">\n",
       "  <thead>\n",
       "    <tr style=\"text-align: right;\">\n",
       "      <th></th>\n",
       "      <th>Company</th>\n",
       "      <th>Age</th>\n",
       "      <th>Salary</th>\n",
       "      <th>Place</th>\n",
       "      <th>Country</th>\n",
       "      <th>Gender</th>\n",
       "    </tr>\n",
       "  </thead>\n",
       "  <tbody>\n",
       "    <tr>\n",
       "      <th>0</th>\n",
       "      <td>TCS</td>\n",
       "      <td>20.0</td>\n",
       "      <td>NaN</td>\n",
       "      <td>Chennai</td>\n",
       "      <td>India</td>\n",
       "      <td>0</td>\n",
       "    </tr>\n",
       "    <tr>\n",
       "      <th>1</th>\n",
       "      <td>Infosys</td>\n",
       "      <td>30.0</td>\n",
       "      <td>NaN</td>\n",
       "      <td>Mumbai</td>\n",
       "      <td>India</td>\n",
       "      <td>0</td>\n",
       "    </tr>\n",
       "    <tr>\n",
       "      <th>2</th>\n",
       "      <td>TCS</td>\n",
       "      <td>35.0</td>\n",
       "      <td>2300.0</td>\n",
       "      <td>Calcutta</td>\n",
       "      <td>India</td>\n",
       "      <td>0</td>\n",
       "    </tr>\n",
       "    <tr>\n",
       "      <th>3</th>\n",
       "      <td>Infosys</td>\n",
       "      <td>40.0</td>\n",
       "      <td>3000.0</td>\n",
       "      <td>Delhi</td>\n",
       "      <td>India</td>\n",
       "      <td>0</td>\n",
       "    </tr>\n",
       "    <tr>\n",
       "      <th>4</th>\n",
       "      <td>TCS</td>\n",
       "      <td>23.0</td>\n",
       "      <td>4000.0</td>\n",
       "      <td>Mumbai</td>\n",
       "      <td>India</td>\n",
       "      <td>0</td>\n",
       "    </tr>\n",
       "    <tr>\n",
       "      <th>...</th>\n",
       "      <td>...</td>\n",
       "      <td>...</td>\n",
       "      <td>...</td>\n",
       "      <td>...</td>\n",
       "      <td>...</td>\n",
       "      <td>...</td>\n",
       "    </tr>\n",
       "    <tr>\n",
       "      <th>143</th>\n",
       "      <td>TCS</td>\n",
       "      <td>33.0</td>\n",
       "      <td>9024.0</td>\n",
       "      <td>Calcutta</td>\n",
       "      <td>India</td>\n",
       "      <td>1</td>\n",
       "    </tr>\n",
       "    <tr>\n",
       "      <th>144</th>\n",
       "      <td>Infosys</td>\n",
       "      <td>22.0</td>\n",
       "      <td>8787.0</td>\n",
       "      <td>Calcutta</td>\n",
       "      <td>India</td>\n",
       "      <td>1</td>\n",
       "    </tr>\n",
       "    <tr>\n",
       "      <th>145</th>\n",
       "      <td>Infosys</td>\n",
       "      <td>44.0</td>\n",
       "      <td>4034.0</td>\n",
       "      <td>Delhi</td>\n",
       "      <td>India</td>\n",
       "      <td>1</td>\n",
       "    </tr>\n",
       "    <tr>\n",
       "      <th>146</th>\n",
       "      <td>TCS</td>\n",
       "      <td>33.0</td>\n",
       "      <td>5034.0</td>\n",
       "      <td>Mumbai</td>\n",
       "      <td>India</td>\n",
       "      <td>1</td>\n",
       "    </tr>\n",
       "    <tr>\n",
       "      <th>147</th>\n",
       "      <td>Infosys</td>\n",
       "      <td>22.0</td>\n",
       "      <td>8202.0</td>\n",
       "      <td>Cochin</td>\n",
       "      <td>India</td>\n",
       "      <td>0</td>\n",
       "    </tr>\n",
       "  </tbody>\n",
       "</table>\n",
       "<p>148 rows × 6 columns</p>\n",
       "</div>"
      ],
      "text/plain": [
       "     Company   Age  Salary     Place Country  Gender\n",
       "0        TCS  20.0     NaN   Chennai   India       0\n",
       "1    Infosys  30.0     NaN    Mumbai   India       0\n",
       "2        TCS  35.0  2300.0  Calcutta   India       0\n",
       "3    Infosys  40.0  3000.0     Delhi   India       0\n",
       "4        TCS  23.0  4000.0    Mumbai   India       0\n",
       "..       ...   ...     ...       ...     ...     ...\n",
       "143      TCS  33.0  9024.0  Calcutta   India       1\n",
       "144  Infosys  22.0  8787.0  Calcutta   India       1\n",
       "145  Infosys  44.0  4034.0     Delhi   India       1\n",
       "146      TCS  33.0  5034.0    Mumbai   India       1\n",
       "147  Infosys  22.0  8202.0    Cochin   India       0\n",
       "\n",
       "[148 rows x 6 columns]"
      ]
     },
     "execution_count": 246,
     "metadata": {},
     "output_type": "execute_result"
    }
   ],
   "source": [
    "#Load the dataset\n",
    "df=pd.read_csv(\"C:\\\\Users\\\\hp\\\\Downloads\\\\Employee.csv\")\n",
    "df"
   ]
  },
  {
   "cell_type": "code",
   "execution_count": 9,
   "id": "2ff383fb-5b6e-4911-aac9-0d550739cc4e",
   "metadata": {},
   "outputs": [
    {
     "data": {
      "text/html": [
       "<div>\n",
       "<style scoped>\n",
       "    .dataframe tbody tr th:only-of-type {\n",
       "        vertical-align: middle;\n",
       "    }\n",
       "\n",
       "    .dataframe tbody tr th {\n",
       "        vertical-align: top;\n",
       "    }\n",
       "\n",
       "    .dataframe thead th {\n",
       "        text-align: right;\n",
       "    }\n",
       "</style>\n",
       "<table border=\"1\" class=\"dataframe\">\n",
       "  <thead>\n",
       "    <tr style=\"text-align: right;\">\n",
       "      <th></th>\n",
       "      <th>Company</th>\n",
       "      <th>Age</th>\n",
       "      <th>Salary</th>\n",
       "      <th>Place</th>\n",
       "      <th>Country</th>\n",
       "      <th>Gender</th>\n",
       "    </tr>\n",
       "  </thead>\n",
       "  <tbody>\n",
       "    <tr>\n",
       "      <th>0</th>\n",
       "      <td>TCS</td>\n",
       "      <td>20.0</td>\n",
       "      <td>NaN</td>\n",
       "      <td>Chennai</td>\n",
       "      <td>India</td>\n",
       "      <td>0</td>\n",
       "    </tr>\n",
       "    <tr>\n",
       "      <th>1</th>\n",
       "      <td>Infosys</td>\n",
       "      <td>30.0</td>\n",
       "      <td>NaN</td>\n",
       "      <td>Mumbai</td>\n",
       "      <td>India</td>\n",
       "      <td>0</td>\n",
       "    </tr>\n",
       "    <tr>\n",
       "      <th>2</th>\n",
       "      <td>TCS</td>\n",
       "      <td>35.0</td>\n",
       "      <td>2300.0</td>\n",
       "      <td>Calcutta</td>\n",
       "      <td>India</td>\n",
       "      <td>0</td>\n",
       "    </tr>\n",
       "    <tr>\n",
       "      <th>3</th>\n",
       "      <td>Infosys</td>\n",
       "      <td>40.0</td>\n",
       "      <td>3000.0</td>\n",
       "      <td>Delhi</td>\n",
       "      <td>India</td>\n",
       "      <td>0</td>\n",
       "    </tr>\n",
       "    <tr>\n",
       "      <th>4</th>\n",
       "      <td>TCS</td>\n",
       "      <td>23.0</td>\n",
       "      <td>4000.0</td>\n",
       "      <td>Mumbai</td>\n",
       "      <td>India</td>\n",
       "      <td>0</td>\n",
       "    </tr>\n",
       "  </tbody>\n",
       "</table>\n",
       "</div>"
      ],
      "text/plain": [
       "   Company   Age  Salary     Place Country  Gender\n",
       "0      TCS  20.0     NaN   Chennai   India       0\n",
       "1  Infosys  30.0     NaN    Mumbai   India       0\n",
       "2      TCS  35.0  2300.0  Calcutta   India       0\n",
       "3  Infosys  40.0  3000.0     Delhi   India       0\n",
       "4      TCS  23.0  4000.0    Mumbai   India       0"
      ]
     },
     "execution_count": 9,
     "metadata": {},
     "output_type": "execute_result"
    }
   ],
   "source": [
    "df.head()"
   ]
  },
  {
   "cell_type": "code",
   "execution_count": 11,
   "id": "981b2549-d922-43c9-b449-3aad2f0d9851",
   "metadata": {},
   "outputs": [
    {
     "data": {
      "text/html": [
       "<div>\n",
       "<style scoped>\n",
       "    .dataframe tbody tr th:only-of-type {\n",
       "        vertical-align: middle;\n",
       "    }\n",
       "\n",
       "    .dataframe tbody tr th {\n",
       "        vertical-align: top;\n",
       "    }\n",
       "\n",
       "    .dataframe thead th {\n",
       "        text-align: right;\n",
       "    }\n",
       "</style>\n",
       "<table border=\"1\" class=\"dataframe\">\n",
       "  <thead>\n",
       "    <tr style=\"text-align: right;\">\n",
       "      <th></th>\n",
       "      <th>Company</th>\n",
       "      <th>Age</th>\n",
       "      <th>Salary</th>\n",
       "      <th>Place</th>\n",
       "      <th>Country</th>\n",
       "      <th>Gender</th>\n",
       "    </tr>\n",
       "  </thead>\n",
       "  <tbody>\n",
       "    <tr>\n",
       "      <th>143</th>\n",
       "      <td>TCS</td>\n",
       "      <td>33.0</td>\n",
       "      <td>9024.0</td>\n",
       "      <td>Calcutta</td>\n",
       "      <td>India</td>\n",
       "      <td>1</td>\n",
       "    </tr>\n",
       "    <tr>\n",
       "      <th>144</th>\n",
       "      <td>Infosys</td>\n",
       "      <td>22.0</td>\n",
       "      <td>8787.0</td>\n",
       "      <td>Calcutta</td>\n",
       "      <td>India</td>\n",
       "      <td>1</td>\n",
       "    </tr>\n",
       "    <tr>\n",
       "      <th>145</th>\n",
       "      <td>Infosys</td>\n",
       "      <td>44.0</td>\n",
       "      <td>4034.0</td>\n",
       "      <td>Delhi</td>\n",
       "      <td>India</td>\n",
       "      <td>1</td>\n",
       "    </tr>\n",
       "    <tr>\n",
       "      <th>146</th>\n",
       "      <td>TCS</td>\n",
       "      <td>33.0</td>\n",
       "      <td>5034.0</td>\n",
       "      <td>Mumbai</td>\n",
       "      <td>India</td>\n",
       "      <td>1</td>\n",
       "    </tr>\n",
       "    <tr>\n",
       "      <th>147</th>\n",
       "      <td>Infosys</td>\n",
       "      <td>22.0</td>\n",
       "      <td>8202.0</td>\n",
       "      <td>Cochin</td>\n",
       "      <td>India</td>\n",
       "      <td>0</td>\n",
       "    </tr>\n",
       "  </tbody>\n",
       "</table>\n",
       "</div>"
      ],
      "text/plain": [
       "     Company   Age  Salary     Place Country  Gender\n",
       "143      TCS  33.0  9024.0  Calcutta   India       1\n",
       "144  Infosys  22.0  8787.0  Calcutta   India       1\n",
       "145  Infosys  44.0  4034.0     Delhi   India       1\n",
       "146      TCS  33.0  5034.0    Mumbai   India       1\n",
       "147  Infosys  22.0  8202.0    Cochin   India       0"
      ]
     },
     "execution_count": 11,
     "metadata": {},
     "output_type": "execute_result"
    }
   ],
   "source": [
    "df.tail()"
   ]
  },
  {
   "cell_type": "code",
   "execution_count": 15,
   "id": "b9c64600-c834-4101-b45e-a83e7f33beac",
   "metadata": {},
   "outputs": [
    {
     "data": {
      "text/plain": [
       "(148, 6)"
      ]
     },
     "execution_count": 15,
     "metadata": {},
     "output_type": "execute_result"
    }
   ],
   "source": [
    "df.shape"
   ]
  },
  {
   "cell_type": "code",
   "execution_count": 17,
   "id": "0b8d9206-a22b-4e4c-a924-7c90e703419b",
   "metadata": {},
   "outputs": [
    {
     "data": {
      "text/plain": [
       "Company     object\n",
       "Age        float64\n",
       "Salary     float64\n",
       "Place       object\n",
       "Country     object\n",
       "Gender       int64\n",
       "dtype: object"
      ]
     },
     "execution_count": 17,
     "metadata": {},
     "output_type": "execute_result"
    }
   ],
   "source": [
    "df.dtypes"
   ]
  },
  {
   "cell_type": "code",
   "execution_count": 19,
   "id": "0b8170c5-d578-4a4e-ab6e-fbc021ccf25b",
   "metadata": {},
   "outputs": [
    {
     "name": "stdout",
     "output_type": "stream",
     "text": [
      "<class 'pandas.core.frame.DataFrame'>\n",
      "RangeIndex: 148 entries, 0 to 147\n",
      "Data columns (total 6 columns):\n",
      " #   Column   Non-Null Count  Dtype  \n",
      "---  ------   --------------  -----  \n",
      " 0   Company  140 non-null    object \n",
      " 1   Age      130 non-null    float64\n",
      " 2   Salary   124 non-null    float64\n",
      " 3   Place    134 non-null    object \n",
      " 4   Country  148 non-null    object \n",
      " 5   Gender   148 non-null    int64  \n",
      "dtypes: float64(2), int64(1), object(3)\n",
      "memory usage: 7.1+ KB\n"
     ]
    }
   ],
   "source": [
    "df.info()"
   ]
  },
  {
   "cell_type": "code",
   "execution_count": 21,
   "id": "11f747e5-1f7e-42c4-b724-0c98d59a00d4",
   "metadata": {},
   "outputs": [
    {
     "data": {
      "text/plain": [
       "Index(['Company', 'Age', 'Salary', 'Place', 'Country', 'Gender'], dtype='object')"
      ]
     },
     "execution_count": 21,
     "metadata": {},
     "output_type": "execute_result"
    }
   ],
   "source": [
    "df.columns"
   ]
  },
  {
   "cell_type": "code",
   "execution_count": 25,
   "id": "31d2f8a0-10bd-4cb8-874c-a8cc0e838973",
   "metadata": {},
   "outputs": [
    {
     "data": {
      "text/plain": [
       "Company     6\n",
       "Age        29\n",
       "Salary     40\n",
       "Place      11\n",
       "Country     1\n",
       "Gender      2\n",
       "dtype: int64"
      ]
     },
     "execution_count": 25,
     "metadata": {},
     "output_type": "execute_result"
    }
   ],
   "source": [
    "df.nunique()"
   ]
  },
  {
   "cell_type": "code",
   "execution_count": 69,
   "id": "a8de363b-1b4c-48da-8f41-3bf09bccb191",
   "metadata": {},
   "outputs": [
    {
     "data": {
      "text/plain": [
       "array(['TCS', 'Infosys', 'CTS', nan, 'Tata Consultancy Services',\n",
       "       'Congnizant', 'Infosys Pvt Lmt'], dtype=object)"
      ]
     },
     "execution_count": 69,
     "metadata": {},
     "output_type": "execute_result"
    }
   ],
   "source": [
    "df['Company'].unique()"
   ]
  },
  {
   "cell_type": "code",
   "execution_count": 49,
   "id": "d37bbab3-eca4-46f7-aa52-0971e50ea163",
   "metadata": {},
   "outputs": [
    {
     "data": {
      "text/plain": [
       "array([20., 30., 35., 40., 23., nan, 34., 45., 18., 22., 32., 37., 50.,\n",
       "       21., 46., 36., 26., 41., 24., 25., 43., 19., 38., 51., 31., 44.,\n",
       "       33., 17.,  0., 54.])"
      ]
     },
     "execution_count": 49,
     "metadata": {},
     "output_type": "execute_result"
    }
   ],
   "source": [
    "df['Age'].unique()"
   ]
  },
  {
   "cell_type": "code",
   "execution_count": 51,
   "id": "ce48de84-7453-4b95-a2ac-f018b994c253",
   "metadata": {},
   "outputs": [
    {
     "data": {
      "text/plain": [
       "array([  nan, 2300., 3000., 4000., 5000., 6000., 7000., 8000., 9000.,\n",
       "       1089., 1234., 3030., 3045., 3184., 4824., 5835., 7084., 8943.,\n",
       "       8345., 9284., 9876., 2034., 7654., 2934., 4034., 5034., 8202.,\n",
       "       9024., 4345., 6544., 6543., 3234., 4324., 5435., 5555., 8787.,\n",
       "       3454., 5654., 5009., 5098., 3033.])"
      ]
     },
     "execution_count": 51,
     "metadata": {},
     "output_type": "execute_result"
    }
   ],
   "source": [
    "df['Salary'].unique()"
   ]
  },
  {
   "cell_type": "code",
   "execution_count": 57,
   "id": "56f73741-d92a-4d39-a7be-52294b088f07",
   "metadata": {},
   "outputs": [
    {
     "data": {
      "text/plain": [
       "array(['Chennai', 'Mumbai', 'Calcutta', 'Delhi', 'Podicherry', 'Cochin',\n",
       "       nan, 'Noida', 'Hyderabad', 'Bhopal', 'Nagpur', 'Pune'],\n",
       "      dtype=object)"
      ]
     },
     "execution_count": 57,
     "metadata": {},
     "output_type": "execute_result"
    }
   ],
   "source": [
    "df['Place'].unique()"
   ]
  },
  {
   "cell_type": "code",
   "execution_count": 55,
   "id": "facd40ea-0cac-494c-bc74-409a4bf638a2",
   "metadata": {},
   "outputs": [
    {
     "data": {
      "text/plain": [
       "array(['India'], dtype=object)"
      ]
     },
     "execution_count": 55,
     "metadata": {},
     "output_type": "execute_result"
    }
   ],
   "source": [
    "df['Country'].unique()"
   ]
  },
  {
   "cell_type": "code",
   "execution_count": 59,
   "id": "1f6353f3-7314-4b42-8cb1-5c83bc01736b",
   "metadata": {},
   "outputs": [
    {
     "data": {
      "text/plain": [
       "array([0, 1], dtype=int64)"
      ]
     },
     "execution_count": 59,
     "metadata": {},
     "output_type": "execute_result"
    }
   ],
   "source": [
    "df['Gender'].unique()"
   ]
  },
  {
   "cell_type": "code",
   "execution_count": 63,
   "id": "dd82b6bb-0227-4fa2-9555-4900b5ea8ebc",
   "metadata": {},
   "outputs": [
    {
     "data": {
      "text/plain": [
       "7"
      ]
     },
     "execution_count": 63,
     "metadata": {},
     "output_type": "execute_result"
    }
   ],
   "source": [
    "len(df['Company'].unique())"
   ]
  },
  {
   "cell_type": "code",
   "execution_count": 73,
   "id": "a121eeb9-7cfb-4d62-a192-0027b0a7640f",
   "metadata": {},
   "outputs": [
    {
     "data": {
      "text/plain": [
       "30"
      ]
     },
     "execution_count": 73,
     "metadata": {},
     "output_type": "execute_result"
    }
   ],
   "source": [
    "len(df['Age'].unique())"
   ]
  },
  {
   "cell_type": "code",
   "execution_count": 75,
   "id": "52c39920-ee0a-4ee2-b868-c5c4260cce54",
   "metadata": {},
   "outputs": [
    {
     "data": {
      "text/plain": [
       "41"
      ]
     },
     "execution_count": 75,
     "metadata": {},
     "output_type": "execute_result"
    }
   ],
   "source": [
    "len(df['Salary'].unique())"
   ]
  },
  {
   "cell_type": "code",
   "execution_count": 77,
   "id": "c32f9c6e-afb2-4d95-a787-e5693bf6454c",
   "metadata": {},
   "outputs": [
    {
     "data": {
      "text/plain": [
       "12"
      ]
     },
     "execution_count": 77,
     "metadata": {},
     "output_type": "execute_result"
    }
   ],
   "source": [
    "len(df['Place'].unique())"
   ]
  },
  {
   "cell_type": "code",
   "execution_count": 81,
   "id": "87e2c4af-ef8a-4a54-851c-e7a13782fbd8",
   "metadata": {},
   "outputs": [
    {
     "data": {
      "text/html": [
       "<div>\n",
       "<style scoped>\n",
       "    .dataframe tbody tr th:only-of-type {\n",
       "        vertical-align: middle;\n",
       "    }\n",
       "\n",
       "    .dataframe tbody tr th {\n",
       "        vertical-align: top;\n",
       "    }\n",
       "\n",
       "    .dataframe thead th {\n",
       "        text-align: right;\n",
       "    }\n",
       "</style>\n",
       "<table border=\"1\" class=\"dataframe\">\n",
       "  <thead>\n",
       "    <tr style=\"text-align: right;\">\n",
       "      <th></th>\n",
       "      <th>Age</th>\n",
       "      <th>Salary</th>\n",
       "      <th>Gender</th>\n",
       "    </tr>\n",
       "  </thead>\n",
       "  <tbody>\n",
       "    <tr>\n",
       "      <th>count</th>\n",
       "      <td>130.000000</td>\n",
       "      <td>124.000000</td>\n",
       "      <td>148.000000</td>\n",
       "    </tr>\n",
       "    <tr>\n",
       "      <th>mean</th>\n",
       "      <td>30.484615</td>\n",
       "      <td>5312.467742</td>\n",
       "      <td>0.222973</td>\n",
       "    </tr>\n",
       "    <tr>\n",
       "      <th>std</th>\n",
       "      <td>11.096640</td>\n",
       "      <td>2573.764683</td>\n",
       "      <td>0.417654</td>\n",
       "    </tr>\n",
       "    <tr>\n",
       "      <th>min</th>\n",
       "      <td>0.000000</td>\n",
       "      <td>1089.000000</td>\n",
       "      <td>0.000000</td>\n",
       "    </tr>\n",
       "    <tr>\n",
       "      <th>25%</th>\n",
       "      <td>22.000000</td>\n",
       "      <td>3030.000000</td>\n",
       "      <td>0.000000</td>\n",
       "    </tr>\n",
       "    <tr>\n",
       "      <th>50%</th>\n",
       "      <td>32.500000</td>\n",
       "      <td>5000.000000</td>\n",
       "      <td>0.000000</td>\n",
       "    </tr>\n",
       "    <tr>\n",
       "      <th>75%</th>\n",
       "      <td>37.750000</td>\n",
       "      <td>8000.000000</td>\n",
       "      <td>0.000000</td>\n",
       "    </tr>\n",
       "    <tr>\n",
       "      <th>max</th>\n",
       "      <td>54.000000</td>\n",
       "      <td>9876.000000</td>\n",
       "      <td>1.000000</td>\n",
       "    </tr>\n",
       "  </tbody>\n",
       "</table>\n",
       "</div>"
      ],
      "text/plain": [
       "              Age       Salary      Gender\n",
       "count  130.000000   124.000000  148.000000\n",
       "mean    30.484615  5312.467742    0.222973\n",
       "std     11.096640  2573.764683    0.417654\n",
       "min      0.000000  1089.000000    0.000000\n",
       "25%     22.000000  3030.000000    0.000000\n",
       "50%     32.500000  5000.000000    0.000000\n",
       "75%     37.750000  8000.000000    0.000000\n",
       "max     54.000000  9876.000000    1.000000"
      ]
     },
     "execution_count": 81,
     "metadata": {},
     "output_type": "execute_result"
    }
   ],
   "source": [
    "df.describe()"
   ]
  },
  {
   "cell_type": "code",
   "execution_count": 79,
   "id": "744ca328-51cb-4214-9eae-924c7a301ded",
   "metadata": {},
   "outputs": [
    {
     "data": {
      "text/html": [
       "<div>\n",
       "<style scoped>\n",
       "    .dataframe tbody tr th:only-of-type {\n",
       "        vertical-align: middle;\n",
       "    }\n",
       "\n",
       "    .dataframe tbody tr th {\n",
       "        vertical-align: top;\n",
       "    }\n",
       "\n",
       "    .dataframe thead th {\n",
       "        text-align: right;\n",
       "    }\n",
       "</style>\n",
       "<table border=\"1\" class=\"dataframe\">\n",
       "  <thead>\n",
       "    <tr style=\"text-align: right;\">\n",
       "      <th></th>\n",
       "      <th>Company</th>\n",
       "      <th>Employee_Age</th>\n",
       "      <th>Salary</th>\n",
       "      <th>Place</th>\n",
       "      <th>Country</th>\n",
       "      <th>Gender</th>\n",
       "    </tr>\n",
       "  </thead>\n",
       "  <tbody>\n",
       "    <tr>\n",
       "      <th>0</th>\n",
       "      <td>TCS</td>\n",
       "      <td>20.0</td>\n",
       "      <td>NaN</td>\n",
       "      <td>Chennai</td>\n",
       "      <td>India</td>\n",
       "      <td>0</td>\n",
       "    </tr>\n",
       "    <tr>\n",
       "      <th>1</th>\n",
       "      <td>Infosys</td>\n",
       "      <td>30.0</td>\n",
       "      <td>NaN</td>\n",
       "      <td>Mumbai</td>\n",
       "      <td>India</td>\n",
       "      <td>0</td>\n",
       "    </tr>\n",
       "    <tr>\n",
       "      <th>2</th>\n",
       "      <td>TCS</td>\n",
       "      <td>35.0</td>\n",
       "      <td>2300.0</td>\n",
       "      <td>Calcutta</td>\n",
       "      <td>India</td>\n",
       "      <td>0</td>\n",
       "    </tr>\n",
       "    <tr>\n",
       "      <th>3</th>\n",
       "      <td>Infosys</td>\n",
       "      <td>40.0</td>\n",
       "      <td>3000.0</td>\n",
       "      <td>Delhi</td>\n",
       "      <td>India</td>\n",
       "      <td>0</td>\n",
       "    </tr>\n",
       "    <tr>\n",
       "      <th>4</th>\n",
       "      <td>TCS</td>\n",
       "      <td>23.0</td>\n",
       "      <td>4000.0</td>\n",
       "      <td>Mumbai</td>\n",
       "      <td>India</td>\n",
       "      <td>0</td>\n",
       "    </tr>\n",
       "    <tr>\n",
       "      <th>...</th>\n",
       "      <td>...</td>\n",
       "      <td>...</td>\n",
       "      <td>...</td>\n",
       "      <td>...</td>\n",
       "      <td>...</td>\n",
       "      <td>...</td>\n",
       "    </tr>\n",
       "    <tr>\n",
       "      <th>143</th>\n",
       "      <td>TCS</td>\n",
       "      <td>33.0</td>\n",
       "      <td>9024.0</td>\n",
       "      <td>Calcutta</td>\n",
       "      <td>India</td>\n",
       "      <td>1</td>\n",
       "    </tr>\n",
       "    <tr>\n",
       "      <th>144</th>\n",
       "      <td>Infosys</td>\n",
       "      <td>22.0</td>\n",
       "      <td>8787.0</td>\n",
       "      <td>Calcutta</td>\n",
       "      <td>India</td>\n",
       "      <td>1</td>\n",
       "    </tr>\n",
       "    <tr>\n",
       "      <th>145</th>\n",
       "      <td>Infosys</td>\n",
       "      <td>44.0</td>\n",
       "      <td>4034.0</td>\n",
       "      <td>Delhi</td>\n",
       "      <td>India</td>\n",
       "      <td>1</td>\n",
       "    </tr>\n",
       "    <tr>\n",
       "      <th>146</th>\n",
       "      <td>TCS</td>\n",
       "      <td>33.0</td>\n",
       "      <td>5034.0</td>\n",
       "      <td>Mumbai</td>\n",
       "      <td>India</td>\n",
       "      <td>1</td>\n",
       "    </tr>\n",
       "    <tr>\n",
       "      <th>147</th>\n",
       "      <td>Infosys</td>\n",
       "      <td>22.0</td>\n",
       "      <td>8202.0</td>\n",
       "      <td>Cochin</td>\n",
       "      <td>India</td>\n",
       "      <td>0</td>\n",
       "    </tr>\n",
       "  </tbody>\n",
       "</table>\n",
       "<p>148 rows × 6 columns</p>\n",
       "</div>"
      ],
      "text/plain": [
       "     Company  Employee_Age  Salary     Place Country  Gender\n",
       "0        TCS          20.0     NaN   Chennai   India       0\n",
       "1    Infosys          30.0     NaN    Mumbai   India       0\n",
       "2        TCS          35.0  2300.0  Calcutta   India       0\n",
       "3    Infosys          40.0  3000.0     Delhi   India       0\n",
       "4        TCS          23.0  4000.0    Mumbai   India       0\n",
       "..       ...           ...     ...       ...     ...     ...\n",
       "143      TCS          33.0  9024.0  Calcutta   India       1\n",
       "144  Infosys          22.0  8787.0  Calcutta   India       1\n",
       "145  Infosys          44.0  4034.0     Delhi   India       1\n",
       "146      TCS          33.0  5034.0    Mumbai   India       1\n",
       "147  Infosys          22.0  8202.0    Cochin   India       0\n",
       "\n",
       "[148 rows x 6 columns]"
      ]
     },
     "execution_count": 79,
     "metadata": {},
     "output_type": "execute_result"
    }
   ],
   "source": [
    "df.rename(columns={'Age':'Employee_Age'})"
   ]
  },
  {
   "cell_type": "markdown",
   "id": "3f2f14fa-b7a8-41e0-86bc-268e60070dcb",
   "metadata": {},
   "source": [
    "###### DATA CLEANING"
   ]
  },
  {
   "cell_type": "code",
   "execution_count": null,
   "id": "0b38e036-134d-42e9-b9f0-034af1e0c32a",
   "metadata": {},
   "outputs": [],
   "source": [
    "# Find the missing and inappropriate values, treat them appropriately.\n",
    "# Remove all duplicate rows.\n",
    "# Find the outliers.\n",
    "# Replace the value 0 in age as NaN\n",
    "# Treat the null values in all columns using any measures"
   ]
  },
  {
   "cell_type": "code",
   "execution_count": 85,
   "id": "d9036158-3974-411d-bc5e-85cd2d71309b",
   "metadata": {},
   "outputs": [
    {
     "name": "stdout",
     "output_type": "stream",
     "text": [
      "Missing Values: Company     8\n",
      "Age        18\n",
      "Salary     24\n",
      "Place      14\n",
      "Country     0\n",
      "Gender      0\n",
      "dtype: int64\n"
     ]
    }
   ],
   "source": [
    "#Find missing Values\n",
    "print(\"Missing Values:\" , df.isnull().sum())"
   ]
  },
  {
   "cell_type": "code",
   "execution_count": 101,
   "id": "44586bde-78c7-4703-8d6f-4d575090f482",
   "metadata": {},
   "outputs": [
    {
     "data": {
      "text/plain": [
       "0      20.0\n",
       "1      30.0\n",
       "2      35.0\n",
       "3      40.0\n",
       "4      23.0\n",
       "       ... \n",
       "143    33.0\n",
       "144    22.0\n",
       "145    44.0\n",
       "146    33.0\n",
       "147    22.0\n",
       "Name: Age, Length: 148, dtype: float64"
      ]
     },
     "execution_count": 101,
     "metadata": {},
     "output_type": "execute_result"
    }
   ],
   "source": [
    "#Replace 0 in age with Nan\n",
    "df['Age'].replace(0, np.nan)"
   ]
  },
  {
   "cell_type": "code",
   "execution_count": 55,
   "id": "d1bd69a3-941e-443f-af2a-690a7a04310c",
   "metadata": {},
   "outputs": [
    {
     "data": {
      "text/html": [
       "<div>\n",
       "<style scoped>\n",
       "    .dataframe tbody tr th:only-of-type {\n",
       "        vertical-align: middle;\n",
       "    }\n",
       "\n",
       "    .dataframe tbody tr th {\n",
       "        vertical-align: top;\n",
       "    }\n",
       "\n",
       "    .dataframe thead th {\n",
       "        text-align: right;\n",
       "    }\n",
       "</style>\n",
       "<table border=\"1\" class=\"dataframe\">\n",
       "  <thead>\n",
       "    <tr style=\"text-align: right;\">\n",
       "      <th></th>\n",
       "      <th>Company</th>\n",
       "      <th>Age</th>\n",
       "      <th>Salary</th>\n",
       "      <th>Place</th>\n",
       "      <th>Country</th>\n",
       "      <th>Gender</th>\n",
       "    </tr>\n",
       "  </thead>\n",
       "  <tbody>\n",
       "    <tr>\n",
       "      <th>0</th>\n",
       "      <td>TCS</td>\n",
       "      <td>20.0</td>\n",
       "      <td>NaN</td>\n",
       "      <td>Chennai</td>\n",
       "      <td>India</td>\n",
       "      <td>0</td>\n",
       "    </tr>\n",
       "    <tr>\n",
       "      <th>1</th>\n",
       "      <td>Infosys</td>\n",
       "      <td>30.0</td>\n",
       "      <td>NaN</td>\n",
       "      <td>Mumbai</td>\n",
       "      <td>India</td>\n",
       "      <td>0</td>\n",
       "    </tr>\n",
       "    <tr>\n",
       "      <th>2</th>\n",
       "      <td>TCS</td>\n",
       "      <td>35.0</td>\n",
       "      <td>2300.0</td>\n",
       "      <td>Calcutta</td>\n",
       "      <td>India</td>\n",
       "      <td>0</td>\n",
       "    </tr>\n",
       "    <tr>\n",
       "      <th>3</th>\n",
       "      <td>Infosys</td>\n",
       "      <td>40.0</td>\n",
       "      <td>3000.0</td>\n",
       "      <td>Delhi</td>\n",
       "      <td>India</td>\n",
       "      <td>0</td>\n",
       "    </tr>\n",
       "    <tr>\n",
       "      <th>4</th>\n",
       "      <td>TCS</td>\n",
       "      <td>23.0</td>\n",
       "      <td>4000.0</td>\n",
       "      <td>Mumbai</td>\n",
       "      <td>India</td>\n",
       "      <td>0</td>\n",
       "    </tr>\n",
       "    <tr>\n",
       "      <th>...</th>\n",
       "      <td>...</td>\n",
       "      <td>...</td>\n",
       "      <td>...</td>\n",
       "      <td>...</td>\n",
       "      <td>...</td>\n",
       "      <td>...</td>\n",
       "    </tr>\n",
       "    <tr>\n",
       "      <th>143</th>\n",
       "      <td>TCS</td>\n",
       "      <td>33.0</td>\n",
       "      <td>9024.0</td>\n",
       "      <td>Calcutta</td>\n",
       "      <td>India</td>\n",
       "      <td>1</td>\n",
       "    </tr>\n",
       "    <tr>\n",
       "      <th>144</th>\n",
       "      <td>Infosys</td>\n",
       "      <td>22.0</td>\n",
       "      <td>8787.0</td>\n",
       "      <td>Calcutta</td>\n",
       "      <td>India</td>\n",
       "      <td>1</td>\n",
       "    </tr>\n",
       "    <tr>\n",
       "      <th>145</th>\n",
       "      <td>Infosys</td>\n",
       "      <td>44.0</td>\n",
       "      <td>4034.0</td>\n",
       "      <td>Delhi</td>\n",
       "      <td>India</td>\n",
       "      <td>1</td>\n",
       "    </tr>\n",
       "    <tr>\n",
       "      <th>146</th>\n",
       "      <td>TCS</td>\n",
       "      <td>33.0</td>\n",
       "      <td>5034.0</td>\n",
       "      <td>Mumbai</td>\n",
       "      <td>India</td>\n",
       "      <td>1</td>\n",
       "    </tr>\n",
       "    <tr>\n",
       "      <th>147</th>\n",
       "      <td>Infosys</td>\n",
       "      <td>22.0</td>\n",
       "      <td>8202.0</td>\n",
       "      <td>Cochin</td>\n",
       "      <td>India</td>\n",
       "      <td>0</td>\n",
       "    </tr>\n",
       "  </tbody>\n",
       "</table>\n",
       "<p>148 rows × 6 columns</p>\n",
       "</div>"
      ],
      "text/plain": [
       "     Company   Age  Salary     Place Country  Gender\n",
       "0        TCS  20.0     NaN   Chennai   India       0\n",
       "1    Infosys  30.0     NaN    Mumbai   India       0\n",
       "2        TCS  35.0  2300.0  Calcutta   India       0\n",
       "3    Infosys  40.0  3000.0     Delhi   India       0\n",
       "4        TCS  23.0  4000.0    Mumbai   India       0\n",
       "..       ...   ...     ...       ...     ...     ...\n",
       "143      TCS  33.0  9024.0  Calcutta   India       1\n",
       "144  Infosys  22.0  8787.0  Calcutta   India       1\n",
       "145  Infosys  44.0  4034.0     Delhi   India       1\n",
       "146      TCS  33.0  5034.0    Mumbai   India       1\n",
       "147  Infosys  22.0  8202.0    Cochin   India       0\n",
       "\n",
       "[148 rows x 6 columns]"
      ]
     },
     "execution_count": 55,
     "metadata": {},
     "output_type": "execute_result"
    }
   ],
   "source": [
    "#Treat Null values\n",
    "df.fillna(df.mode())\n",
    "df"
   ]
  },
  {
   "cell_type": "code",
   "execution_count": 31,
   "id": "884ce709-1a3f-469e-a7df-2c39556c039a",
   "metadata": {},
   "outputs": [
    {
     "data": {
      "text/plain": [
       "<Axes: ylabel='Salary'>"
      ]
     },
     "execution_count": 31,
     "metadata": {},
     "output_type": "execute_result"
    },
    {
     "data": {
      "image/png": "[encoded data removed]",
      "text/plain": [
       "<Figure size 640x480 with 1 Axes>"
      ]
     },
     "metadata": {},
     "output_type": "display_data"
    }
   ],
   "source": [
    "#Find the Outliers using Boxplot\n",
    "sns.boxplot(df['Salary'])"
   ]
  },
  {
   "cell_type": "code",
   "execution_count": 39,
   "id": "d8cf608d-f05b-4f8b-8f23-eda3e692d38d",
   "metadata": {},
   "outputs": [
    {
     "data": {
      "image/png": "[encoded data removed]",
      "text/plain": [
       "<Figure size 1200x500 with 2 Axes>"
      ]
     },
     "metadata": {},
     "output_type": "display_data"
    },
    {
     "data": {
      "image/png": "[encoded data removed]",
      "text/plain": [
       "<Figure size 1200x500 with 2 Axes>"
      ]
     },
     "metadata": {},
     "output_type": "display_data"
    },
    {
     "data": {
      "image/png": "[encoded data removed]",
      "text/plain": [
       "<Figure size 1200x500 with 2 Axes>"
      ]
     },
     "metadata": {},
     "output_type": "display_data"
    },
    {
     "data": {
      "image/png": "[encoded data removed]",
      "text/plain": [
       "<Figure size 1200x500 with 2 Axes>"
      ]
     },
     "metadata": {},
     "output_type": "display_data"
    },
    {
     "data": {
      "image/png": "[encoded data removed]",
      "text/plain": [
       "<Figure size 1200x500 with 2 Axes>"
      ]
     },
     "metadata": {},
     "output_type": "display_data"
    },
    {
     "data": {
      "image/png": "[encoded data removed]",
      "text/plain": [
       "<Figure size 1200x500 with 2 Axes>"
      ]
     },
     "metadata": {},
     "output_type": "display_data"
    }
   ],
   "source": [
    "for i in df.columns:\n",
    "    plt.figure(figsize=(12,5))\n",
    "\n",
    "    # Histogram\n",
    "    plt.subplot(1, 2, 1)\n",
    "    sns.histplot(df[i], kde=True)\n",
    "    plt.xlabel(i)\n",
    "    plt.xticks(rotation=90)\n",
    "    plt.ylabel('Frequency')\n",
    "    plt.title(f'Histogram of {i}')\n",
    "\n",
    "    # Boxplot\n",
    "    plt.subplot(1, 2, 2)\n",
    "    sns.boxplot(x=df[i])\n",
    "    plt.title(f'Boxplot of {i}')\n",
    "    plt.xticks(rotation=90)\n",
    "\n",
    "    plt.show()"
   ]
  },
  {
   "cell_type": "code",
   "execution_count": 15,
   "id": "f15e53bc-9c2f-49d7-8198-ba567eefde1e",
   "metadata": {},
   "outputs": [
    {
     "name": "stdout",
     "output_type": "stream",
     "text": [
      "Upper_limit: 13033.761789635413\n",
      "lower_limit: -2408.8263057644463\n"
     ]
    }
   ],
   "source": [
    "#Find Outliers\n",
    "Upper_limit = df['Salary'].mean() + 3*df['Salary'].std()\n",
    "lower_limit = df['Salary'].mean() - 3*df['Salary'].std()\n",
    "print('Upper_limit:',Upper_limit)\n",
    "print('lower_limit:',lower_limit)"
   ]
  },
  {
   "cell_type": "code",
   "execution_count": 17,
   "id": "338abb73-5f85-4911-9de2-2264482bc9c6",
   "metadata": {},
   "outputs": [
    {
     "data": {
      "text/html": [
       "<div>\n",
       "<style scoped>\n",
       "    .dataframe tbody tr th:only-of-type {\n",
       "        vertical-align: middle;\n",
       "    }\n",
       "\n",
       "    .dataframe tbody tr th {\n",
       "        vertical-align: top;\n",
       "    }\n",
       "\n",
       "    .dataframe thead th {\n",
       "        text-align: right;\n",
       "    }\n",
       "</style>\n",
       "<table border=\"1\" class=\"dataframe\">\n",
       "  <thead>\n",
       "    <tr style=\"text-align: right;\">\n",
       "      <th></th>\n",
       "      <th>Company</th>\n",
       "      <th>Age</th>\n",
       "      <th>Salary</th>\n",
       "      <th>Place</th>\n",
       "      <th>Country</th>\n",
       "      <th>Gender</th>\n",
       "    </tr>\n",
       "  </thead>\n",
       "  <tbody>\n",
       "  </tbody>\n",
       "</table>\n",
       "</div>"
      ],
      "text/plain": [
       "Empty DataFrame\n",
       "Columns: [Company, Age, Salary, Place, Country, Gender]\n",
       "Index: []"
      ]
     },
     "execution_count": 17,
     "metadata": {},
     "output_type": "execute_result"
    }
   ],
   "source": [
    "Outliers=df.loc[(df['Salary'] < lower_limit) | (df['Salary'] > Upper_limit)]\n",
    "Outliers"
   ]
  },
  {
   "cell_type": "code",
   "execution_count": 19,
   "id": "d46bb3b0-1881-48a2-804d-6095cd8a0009",
   "metadata": {},
   "outputs": [
    {
     "data": {
      "text/html": [
       "<div>\n",
       "<style scoped>\n",
       "    .dataframe tbody tr th:only-of-type {\n",
       "        vertical-align: middle;\n",
       "    }\n",
       "\n",
       "    .dataframe tbody tr th {\n",
       "        vertical-align: top;\n",
       "    }\n",
       "\n",
       "    .dataframe thead th {\n",
       "        text-align: right;\n",
       "    }\n",
       "</style>\n",
       "<table border=\"1\" class=\"dataframe\">\n",
       "  <thead>\n",
       "    <tr style=\"text-align: right;\">\n",
       "      <th></th>\n",
       "      <th>Company</th>\n",
       "      <th>Age</th>\n",
       "      <th>Salary</th>\n",
       "      <th>Place</th>\n",
       "      <th>Country</th>\n",
       "      <th>Gender</th>\n",
       "    </tr>\n",
       "  </thead>\n",
       "  <tbody>\n",
       "    <tr>\n",
       "      <th>2</th>\n",
       "      <td>TCS</td>\n",
       "      <td>35.0</td>\n",
       "      <td>2300.0</td>\n",
       "      <td>Calcutta</td>\n",
       "      <td>India</td>\n",
       "      <td>0</td>\n",
       "    </tr>\n",
       "    <tr>\n",
       "      <th>3</th>\n",
       "      <td>Infosys</td>\n",
       "      <td>40.0</td>\n",
       "      <td>3000.0</td>\n",
       "      <td>Delhi</td>\n",
       "      <td>India</td>\n",
       "      <td>0</td>\n",
       "    </tr>\n",
       "    <tr>\n",
       "      <th>4</th>\n",
       "      <td>TCS</td>\n",
       "      <td>23.0</td>\n",
       "      <td>4000.0</td>\n",
       "      <td>Mumbai</td>\n",
       "      <td>India</td>\n",
       "      <td>0</td>\n",
       "    </tr>\n",
       "    <tr>\n",
       "      <th>5</th>\n",
       "      <td>Infosys</td>\n",
       "      <td>NaN</td>\n",
       "      <td>5000.0</td>\n",
       "      <td>Calcutta</td>\n",
       "      <td>India</td>\n",
       "      <td>0</td>\n",
       "    </tr>\n",
       "    <tr>\n",
       "      <th>6</th>\n",
       "      <td>TCS</td>\n",
       "      <td>NaN</td>\n",
       "      <td>6000.0</td>\n",
       "      <td>Chennai</td>\n",
       "      <td>India</td>\n",
       "      <td>1</td>\n",
       "    </tr>\n",
       "    <tr>\n",
       "      <th>...</th>\n",
       "      <td>...</td>\n",
       "      <td>...</td>\n",
       "      <td>...</td>\n",
       "      <td>...</td>\n",
       "      <td>...</td>\n",
       "      <td>...</td>\n",
       "    </tr>\n",
       "    <tr>\n",
       "      <th>143</th>\n",
       "      <td>TCS</td>\n",
       "      <td>33.0</td>\n",
       "      <td>9024.0</td>\n",
       "      <td>Calcutta</td>\n",
       "      <td>India</td>\n",
       "      <td>1</td>\n",
       "    </tr>\n",
       "    <tr>\n",
       "      <th>144</th>\n",
       "      <td>Infosys</td>\n",
       "      <td>22.0</td>\n",
       "      <td>8787.0</td>\n",
       "      <td>Calcutta</td>\n",
       "      <td>India</td>\n",
       "      <td>1</td>\n",
       "    </tr>\n",
       "    <tr>\n",
       "      <th>145</th>\n",
       "      <td>Infosys</td>\n",
       "      <td>44.0</td>\n",
       "      <td>4034.0</td>\n",
       "      <td>Delhi</td>\n",
       "      <td>India</td>\n",
       "      <td>1</td>\n",
       "    </tr>\n",
       "    <tr>\n",
       "      <th>146</th>\n",
       "      <td>TCS</td>\n",
       "      <td>33.0</td>\n",
       "      <td>5034.0</td>\n",
       "      <td>Mumbai</td>\n",
       "      <td>India</td>\n",
       "      <td>1</td>\n",
       "    </tr>\n",
       "    <tr>\n",
       "      <th>147</th>\n",
       "      <td>Infosys</td>\n",
       "      <td>22.0</td>\n",
       "      <td>8202.0</td>\n",
       "      <td>Cochin</td>\n",
       "      <td>India</td>\n",
       "      <td>0</td>\n",
       "    </tr>\n",
       "  </tbody>\n",
       "</table>\n",
       "<p>124 rows × 6 columns</p>\n",
       "</div>"
      ],
      "text/plain": [
       "     Company   Age  Salary     Place Country  Gender\n",
       "2        TCS  35.0  2300.0  Calcutta   India       0\n",
       "3    Infosys  40.0  3000.0     Delhi   India       0\n",
       "4        TCS  23.0  4000.0    Mumbai   India       0\n",
       "5    Infosys   NaN  5000.0  Calcutta   India       0\n",
       "6        TCS   NaN  6000.0   Chennai   India       1\n",
       "..       ...   ...     ...       ...     ...     ...\n",
       "143      TCS  33.0  9024.0  Calcutta   India       1\n",
       "144  Infosys  22.0  8787.0  Calcutta   India       1\n",
       "145  Infosys  44.0  4034.0     Delhi   India       1\n",
       "146      TCS  33.0  5034.0    Mumbai   India       1\n",
       "147  Infosys  22.0  8202.0    Cochin   India       0\n",
       "\n",
       "[124 rows x 6 columns]"
      ]
     },
     "execution_count": 19,
     "metadata": {},
     "output_type": "execute_result"
    }
   ],
   "source": [
    "#Remove Outliers\n",
    "df_trimmed=df.loc[(df['Salary'] >= lower_limit) &  (df['Salary'] <= Upper_limit)]\n",
    "df_trimmed"
   ]
  },
  {
   "cell_type": "code",
   "execution_count": 91,
   "id": "b1fe68f0-f1ca-4428-99fa-6997b023bdaf",
   "metadata": {},
   "outputs": [
    {
     "name": "stdout",
     "output_type": "stream",
     "text": [
      "Duplicates: 4\n"
     ]
    }
   ],
   "source": [
    "print(\"Duplicates:\" ,df.duplicated().sum())"
   ]
  },
  {
   "cell_type": "code",
   "execution_count": 281,
   "id": "93bc4819-a5ea-43b6-a411-b51d4d43886a",
   "metadata": {},
   "outputs": [
    {
     "data": {
      "text/html": [
       "<div>\n",
       "<style scoped>\n",
       "    .dataframe tbody tr th:only-of-type {\n",
       "        vertical-align: middle;\n",
       "    }\n",
       "\n",
       "    .dataframe tbody tr th {\n",
       "        vertical-align: top;\n",
       "    }\n",
       "\n",
       "    .dataframe thead th {\n",
       "        text-align: right;\n",
       "    }\n",
       "</style>\n",
       "<table border=\"1\" class=\"dataframe\">\n",
       "  <thead>\n",
       "    <tr style=\"text-align: right;\">\n",
       "      <th></th>\n",
       "      <th>Company</th>\n",
       "      <th>Age</th>\n",
       "      <th>Salary</th>\n",
       "      <th>Place</th>\n",
       "      <th>Country</th>\n",
       "      <th>Gender</th>\n",
       "    </tr>\n",
       "  </thead>\n",
       "  <tbody>\n",
       "    <tr>\n",
       "      <th>0</th>\n",
       "      <td>4</td>\n",
       "      <td>-0.948501</td>\n",
       "      <td>NaN</td>\n",
       "      <td>2</td>\n",
       "      <td>0</td>\n",
       "      <td>-0.535683</td>\n",
       "    </tr>\n",
       "    <tr>\n",
       "      <th>1</th>\n",
       "      <td>2</td>\n",
       "      <td>-0.043841</td>\n",
       "      <td>NaN</td>\n",
       "      <td>6</td>\n",
       "      <td>0</td>\n",
       "      <td>-0.535683</td>\n",
       "    </tr>\n",
       "    <tr>\n",
       "      <th>2</th>\n",
       "      <td>4</td>\n",
       "      <td>0.408489</td>\n",
       "      <td>-1.175200</td>\n",
       "      <td>1</td>\n",
       "      <td>0</td>\n",
       "      <td>-0.535683</td>\n",
       "    </tr>\n",
       "    <tr>\n",
       "      <th>3</th>\n",
       "      <td>2</td>\n",
       "      <td>0.860819</td>\n",
       "      <td>-0.902122</td>\n",
       "      <td>4</td>\n",
       "      <td>0</td>\n",
       "      <td>-0.535683</td>\n",
       "    </tr>\n",
       "    <tr>\n",
       "      <th>4</th>\n",
       "      <td>4</td>\n",
       "      <td>-0.677103</td>\n",
       "      <td>-0.512010</td>\n",
       "      <td>6</td>\n",
       "      <td>0</td>\n",
       "      <td>-0.535683</td>\n",
       "    </tr>\n",
       "    <tr>\n",
       "      <th>...</th>\n",
       "      <td>...</td>\n",
       "      <td>...</td>\n",
       "      <td>...</td>\n",
       "      <td>...</td>\n",
       "      <td>...</td>\n",
       "      <td>...</td>\n",
       "    </tr>\n",
       "    <tr>\n",
       "      <th>142</th>\n",
       "      <td>3</td>\n",
       "      <td>-0.767569</td>\n",
       "      <td>1.127242</td>\n",
       "      <td>6</td>\n",
       "      <td>0</td>\n",
       "      <td>-0.535683</td>\n",
       "    </tr>\n",
       "    <tr>\n",
       "      <th>143</th>\n",
       "      <td>4</td>\n",
       "      <td>0.227557</td>\n",
       "      <td>1.447914</td>\n",
       "      <td>1</td>\n",
       "      <td>0</td>\n",
       "      <td>1.866775</td>\n",
       "    </tr>\n",
       "    <tr>\n",
       "      <th>145</th>\n",
       "      <td>2</td>\n",
       "      <td>1.222683</td>\n",
       "      <td>-0.498746</td>\n",
       "      <td>4</td>\n",
       "      <td>0</td>\n",
       "      <td>1.866775</td>\n",
       "    </tr>\n",
       "    <tr>\n",
       "      <th>146</th>\n",
       "      <td>4</td>\n",
       "      <td>0.227557</td>\n",
       "      <td>-0.108634</td>\n",
       "      <td>6</td>\n",
       "      <td>0</td>\n",
       "      <td>1.866775</td>\n",
       "    </tr>\n",
       "    <tr>\n",
       "      <th>147</th>\n",
       "      <td>2</td>\n",
       "      <td>-0.767569</td>\n",
       "      <td>1.127242</td>\n",
       "      <td>3</td>\n",
       "      <td>0</td>\n",
       "      <td>-0.535683</td>\n",
       "    </tr>\n",
       "  </tbody>\n",
       "</table>\n",
       "<p>144 rows × 6 columns</p>\n",
       "</div>"
      ],
      "text/plain": [
       "     Company       Age    Salary  Place  Country    Gender\n",
       "0          4 -0.948501       NaN      2        0 -0.535683\n",
       "1          2 -0.043841       NaN      6        0 -0.535683\n",
       "2          4  0.408489 -1.175200      1        0 -0.535683\n",
       "3          2  0.860819 -0.902122      4        0 -0.535683\n",
       "4          4 -0.677103 -0.512010      6        0 -0.535683\n",
       "..       ...       ...       ...    ...      ...       ...\n",
       "142        3 -0.767569  1.127242      6        0 -0.535683\n",
       "143        4  0.227557  1.447914      1        0  1.866775\n",
       "145        2  1.222683 -0.498746      4        0  1.866775\n",
       "146        4  0.227557 -0.108634      6        0  1.866775\n",
       "147        2 -0.767569  1.127242      3        0 -0.535683\n",
       "\n",
       "[144 rows x 6 columns]"
      ]
     },
     "execution_count": 281,
     "metadata": {},
     "output_type": "execute_result"
    }
   ],
   "source": [
    "#Remove duplicate rows\n",
    "df.drop_duplicates()"
   ]
  },
  {
   "cell_type": "markdown",
   "id": "1cb4f44a-3301-474d-bd39-34e679b2ee30",
   "metadata": {},
   "source": [
    "###### DATA ANALYSIS"
   ]
  },
  {
   "cell_type": "code",
   "execution_count": null,
   "id": "2c847b91-74c8-44b0-8a21-c0e74dbbf288",
   "metadata": {},
   "outputs": [],
   "source": [
    "# Filter the data with age >40 and salary<5000\n",
    "# Plot the chart with age and salary\n",
    "# Count the number of people from each place and represent it visually"
   ]
  },
  {
   "cell_type": "code",
   "execution_count": 72,
   "id": "30552a89-987b-4f39-8ad5-0a1802ddf782",
   "metadata": {},
   "outputs": [
    {
     "data": {
      "text/html": [
       "<div>\n",
       "<style scoped>\n",
       "    .dataframe tbody tr th:only-of-type {\n",
       "        vertical-align: middle;\n",
       "    }\n",
       "\n",
       "    .dataframe tbody tr th {\n",
       "        vertical-align: top;\n",
       "    }\n",
       "\n",
       "    .dataframe thead th {\n",
       "        text-align: right;\n",
       "    }\n",
       "</style>\n",
       "<table border=\"1\" class=\"dataframe\">\n",
       "  <thead>\n",
       "    <tr style=\"text-align: right;\">\n",
       "      <th></th>\n",
       "      <th>Company</th>\n",
       "      <th>Age</th>\n",
       "      <th>Salary</th>\n",
       "      <th>Place</th>\n",
       "      <th>Country</th>\n",
       "      <th>Gender</th>\n",
       "    </tr>\n",
       "  </thead>\n",
       "  <tbody>\n",
       "    <tr>\n",
       "      <th>21</th>\n",
       "      <td>Infosys</td>\n",
       "      <td>50.0</td>\n",
       "      <td>3184.0</td>\n",
       "      <td>Delhi</td>\n",
       "      <td>India</td>\n",
       "      <td>0</td>\n",
       "    </tr>\n",
       "    <tr>\n",
       "      <th>32</th>\n",
       "      <td>Infosys</td>\n",
       "      <td>45.0</td>\n",
       "      <td>4034.0</td>\n",
       "      <td>Calcutta</td>\n",
       "      <td>India</td>\n",
       "      <td>0</td>\n",
       "    </tr>\n",
       "    <tr>\n",
       "      <th>39</th>\n",
       "      <td>Infosys</td>\n",
       "      <td>41.0</td>\n",
       "      <td>3000.0</td>\n",
       "      <td>Mumbai</td>\n",
       "      <td>India</td>\n",
       "      <td>0</td>\n",
       "    </tr>\n",
       "    <tr>\n",
       "      <th>50</th>\n",
       "      <td>Infosys</td>\n",
       "      <td>41.0</td>\n",
       "      <td>3000.0</td>\n",
       "      <td>Chennai</td>\n",
       "      <td>India</td>\n",
       "      <td>0</td>\n",
       "    </tr>\n",
       "    <tr>\n",
       "      <th>57</th>\n",
       "      <td>Infosys</td>\n",
       "      <td>51.0</td>\n",
       "      <td>3184.0</td>\n",
       "      <td>Hyderabad</td>\n",
       "      <td>India</td>\n",
       "      <td>0</td>\n",
       "    </tr>\n",
       "    <tr>\n",
       "      <th>68</th>\n",
       "      <td>Infosys</td>\n",
       "      <td>43.0</td>\n",
       "      <td>4034.0</td>\n",
       "      <td>Mumbai</td>\n",
       "      <td>India</td>\n",
       "      <td>0</td>\n",
       "    </tr>\n",
       "    <tr>\n",
       "      <th>75</th>\n",
       "      <td>Infosys</td>\n",
       "      <td>44.0</td>\n",
       "      <td>3000.0</td>\n",
       "      <td>Cochin</td>\n",
       "      <td>India</td>\n",
       "      <td>0</td>\n",
       "    </tr>\n",
       "    <tr>\n",
       "      <th>86</th>\n",
       "      <td>Infosys</td>\n",
       "      <td>41.0</td>\n",
       "      <td>3000.0</td>\n",
       "      <td>Delhi</td>\n",
       "      <td>India</td>\n",
       "      <td>0</td>\n",
       "    </tr>\n",
       "    <tr>\n",
       "      <th>93</th>\n",
       "      <td>Infosys</td>\n",
       "      <td>54.0</td>\n",
       "      <td>3184.0</td>\n",
       "      <td>Mumbai</td>\n",
       "      <td>India</td>\n",
       "      <td>0</td>\n",
       "    </tr>\n",
       "    <tr>\n",
       "      <th>104</th>\n",
       "      <td>Infosys</td>\n",
       "      <td>44.0</td>\n",
       "      <td>4034.0</td>\n",
       "      <td>Delhi</td>\n",
       "      <td>India</td>\n",
       "      <td>0</td>\n",
       "    </tr>\n",
       "    <tr>\n",
       "      <th>122</th>\n",
       "      <td>Infosys</td>\n",
       "      <td>44.0</td>\n",
       "      <td>3234.0</td>\n",
       "      <td>Mumbai</td>\n",
       "      <td>India</td>\n",
       "      <td>0</td>\n",
       "    </tr>\n",
       "    <tr>\n",
       "      <th>129</th>\n",
       "      <td>Infosys</td>\n",
       "      <td>50.0</td>\n",
       "      <td>3184.0</td>\n",
       "      <td>Calcutta</td>\n",
       "      <td>India</td>\n",
       "      <td>0</td>\n",
       "    </tr>\n",
       "    <tr>\n",
       "      <th>138</th>\n",
       "      <td>CTS</td>\n",
       "      <td>44.0</td>\n",
       "      <td>3033.0</td>\n",
       "      <td>Cochin</td>\n",
       "      <td>India</td>\n",
       "      <td>0</td>\n",
       "    </tr>\n",
       "    <tr>\n",
       "      <th>140</th>\n",
       "      <td>Infosys</td>\n",
       "      <td>44.0</td>\n",
       "      <td>4034.0</td>\n",
       "      <td>Hyderabad</td>\n",
       "      <td>India</td>\n",
       "      <td>0</td>\n",
       "    </tr>\n",
       "    <tr>\n",
       "      <th>145</th>\n",
       "      <td>Infosys</td>\n",
       "      <td>44.0</td>\n",
       "      <td>4034.0</td>\n",
       "      <td>Delhi</td>\n",
       "      <td>India</td>\n",
       "      <td>1</td>\n",
       "    </tr>\n",
       "  </tbody>\n",
       "</table>\n",
       "</div>"
      ],
      "text/plain": [
       "     Company   Age  Salary      Place Country  Gender\n",
       "21   Infosys  50.0  3184.0      Delhi   India       0\n",
       "32   Infosys  45.0  4034.0   Calcutta   India       0\n",
       "39   Infosys  41.0  3000.0     Mumbai   India       0\n",
       "50   Infosys  41.0  3000.0    Chennai   India       0\n",
       "57   Infosys  51.0  3184.0  Hyderabad   India       0\n",
       "68   Infosys  43.0  4034.0     Mumbai   India       0\n",
       "75   Infosys  44.0  3000.0     Cochin   India       0\n",
       "86   Infosys  41.0  3000.0      Delhi   India       0\n",
       "93   Infosys  54.0  3184.0     Mumbai   India       0\n",
       "104  Infosys  44.0  4034.0      Delhi   India       0\n",
       "122  Infosys  44.0  3234.0     Mumbai   India       0\n",
       "129  Infosys  50.0  3184.0   Calcutta   India       0\n",
       "138      CTS  44.0  3033.0     Cochin   India       0\n",
       "140  Infosys  44.0  4034.0  Hyderabad   India       0\n",
       "145  Infosys  44.0  4034.0      Delhi   India       1"
      ]
     },
     "execution_count": 72,
     "metadata": {},
     "output_type": "execute_result"
    }
   ],
   "source": [
    "#Filter data with age>40 and salary<5000\n",
    "filtered_data=df[(df['Age'] > 40) & (df['Salary'] < 5000)]\n",
    "filtered_data"
   ]
  },
  {
   "cell_type": "code",
   "execution_count": 74,
   "id": "3761b880-9ee8-4a57-859e-3bae9298a0f4",
   "metadata": {},
   "outputs": [
    {
     "data": {
      "image/png": "[encoded data removed]",
      "text/plain": [
       "<Figure size 800x500 with 1 Axes>"
      ]
     },
     "metadata": {},
     "output_type": "display_data"
    }
   ],
   "source": [
    "#Plot chart with age and salary\n",
    "plt.figure(figsize=(8,5))\n",
    "plt.scatter(filtered_data['Age'],filtered_data['Salary'])\n",
    "plt.xlabel('Age')\n",
    "plt.ylabel('Salary')\n",
    "plt.title('Age Vs Salary')\n",
    "plt.show()"
   ]
  },
  {
   "cell_type": "code",
   "execution_count": 78,
   "id": "4f5b5a6b-c443-4dc9-9db9-874ce3ef8383",
   "metadata": {},
   "outputs": [
    {
     "data": {
      "text/plain": [
       "Place\n",
       "Delhi        4\n",
       "Mumbai       4\n",
       "Calcutta     2\n",
       "Hyderabad    2\n",
       "Cochin       2\n",
       "Chennai      1\n",
       "Name: count, dtype: int64"
      ]
     },
     "execution_count": 78,
     "metadata": {},
     "output_type": "execute_result"
    }
   ],
   "source": [
    "#Count Number of People from each place\n",
    "df1= filtered_data['Place'].value_counts()\n",
    "df1"
   ]
  },
  {
   "cell_type": "code",
   "execution_count": 80,
   "id": "58f923d6-1705-4e38-b59e-8f39990bc91f",
   "metadata": {},
   "outputs": [
    {
     "data": {
      "image/png": "[encoded data removed]",
      "text/plain": [
       "<Figure size 800x500 with 1 Axes>"
      ]
     },
     "metadata": {},
     "output_type": "display_data"
    }
   ],
   "source": [
    "#Represent the count visually using bar chart\n",
    "plt.figure(figsize=(8,5))\n",
    "sns.barplot(x=df1.index,y=df1.values)\n",
    "plt.xlabel('Place')\n",
    "plt.ylabel('Count')\n",
    "plt.title('People from Each Place')\n",
    "plt.show()"
   ]
  },
  {
   "cell_type": "code",
   "execution_count": 146,
   "id": "8fd2fe9f-5f18-4b94-933b-4d4d84b356bf",
   "metadata": {},
   "outputs": [],
   "source": [
    "import warnings\n",
    "import sys\n",
    "if not sys.warnoptions:\n",
    "    warnings.simplefilter(\"ignore\")"
   ]
  },
  {
   "cell_type": "markdown",
   "id": "6264269c-42f2-4089-8d18-6231a800617e",
   "metadata": {},
   "source": [
    "###### DATA ENCODING"
   ]
  },
  {
   "cell_type": "code",
   "execution_count": null,
   "id": "5122ecf1-6103-4c93-b580-c32d6955ab22",
   "metadata": {},
   "outputs": [],
   "source": [
    "#Convert categorical variables into numerical representations using techniques such as one-hot encoding,\n",
    "#label encoding, making them suitable for analysis by machine learning algorithms."
   ]
  },
  {
   "cell_type": "code",
   "execution_count": 164,
   "id": "ca5c1ffc-f093-42f7-be06-d1fc62dac7e9",
   "metadata": {},
   "outputs": [],
   "source": [
    "from sklearn.preprocessing import LabelEncoder"
   ]
  },
  {
   "cell_type": "code",
   "execution_count": 293,
   "id": "e9ee126a-0d09-4133-9697-b96a9a7f7c2c",
   "metadata": {},
   "outputs": [
    {
     "data": {
      "text/html": [
       "<div>\n",
       "<style scoped>\n",
       "    .dataframe tbody tr th:only-of-type {\n",
       "        vertical-align: middle;\n",
       "    }\n",
       "\n",
       "    .dataframe tbody tr th {\n",
       "        vertical-align: top;\n",
       "    }\n",
       "\n",
       "    .dataframe thead th {\n",
       "        text-align: right;\n",
       "    }\n",
       "</style>\n",
       "<table border=\"1\" class=\"dataframe\">\n",
       "  <thead>\n",
       "    <tr style=\"text-align: right;\">\n",
       "      <th></th>\n",
       "      <th>Company</th>\n",
       "      <th>Age</th>\n",
       "      <th>Salary</th>\n",
       "      <th>Place</th>\n",
       "      <th>Country</th>\n",
       "      <th>Gender</th>\n",
       "    </tr>\n",
       "  </thead>\n",
       "  <tbody>\n",
       "    <tr>\n",
       "      <th>0</th>\n",
       "      <td>4</td>\n",
       "      <td>-0.948501</td>\n",
       "      <td>NaN</td>\n",
       "      <td>2</td>\n",
       "      <td>0</td>\n",
       "      <td>-0.535683</td>\n",
       "    </tr>\n",
       "    <tr>\n",
       "      <th>1</th>\n",
       "      <td>2</td>\n",
       "      <td>-0.043841</td>\n",
       "      <td>NaN</td>\n",
       "      <td>6</td>\n",
       "      <td>0</td>\n",
       "      <td>-0.535683</td>\n",
       "    </tr>\n",
       "    <tr>\n",
       "      <th>2</th>\n",
       "      <td>4</td>\n",
       "      <td>0.408489</td>\n",
       "      <td>-1.175200</td>\n",
       "      <td>1</td>\n",
       "      <td>0</td>\n",
       "      <td>-0.535683</td>\n",
       "    </tr>\n",
       "    <tr>\n",
       "      <th>3</th>\n",
       "      <td>2</td>\n",
       "      <td>0.860819</td>\n",
       "      <td>-0.902122</td>\n",
       "      <td>4</td>\n",
       "      <td>0</td>\n",
       "      <td>-0.535683</td>\n",
       "    </tr>\n",
       "    <tr>\n",
       "      <th>4</th>\n",
       "      <td>4</td>\n",
       "      <td>-0.677103</td>\n",
       "      <td>-0.512010</td>\n",
       "      <td>6</td>\n",
       "      <td>0</td>\n",
       "      <td>-0.535683</td>\n",
       "    </tr>\n",
       "    <tr>\n",
       "      <th>...</th>\n",
       "      <td>...</td>\n",
       "      <td>...</td>\n",
       "      <td>...</td>\n",
       "      <td>...</td>\n",
       "      <td>...</td>\n",
       "      <td>...</td>\n",
       "    </tr>\n",
       "    <tr>\n",
       "      <th>143</th>\n",
       "      <td>4</td>\n",
       "      <td>0.227557</td>\n",
       "      <td>1.447914</td>\n",
       "      <td>1</td>\n",
       "      <td>0</td>\n",
       "      <td>1.866775</td>\n",
       "    </tr>\n",
       "    <tr>\n",
       "      <th>144</th>\n",
       "      <td>2</td>\n",
       "      <td>-0.767569</td>\n",
       "      <td>1.355457</td>\n",
       "      <td>1</td>\n",
       "      <td>0</td>\n",
       "      <td>1.866775</td>\n",
       "    </tr>\n",
       "    <tr>\n",
       "      <th>145</th>\n",
       "      <td>2</td>\n",
       "      <td>1.222683</td>\n",
       "      <td>-0.498746</td>\n",
       "      <td>4</td>\n",
       "      <td>0</td>\n",
       "      <td>1.866775</td>\n",
       "    </tr>\n",
       "    <tr>\n",
       "      <th>146</th>\n",
       "      <td>4</td>\n",
       "      <td>0.227557</td>\n",
       "      <td>-0.108634</td>\n",
       "      <td>6</td>\n",
       "      <td>0</td>\n",
       "      <td>1.866775</td>\n",
       "    </tr>\n",
       "    <tr>\n",
       "      <th>147</th>\n",
       "      <td>2</td>\n",
       "      <td>-0.767569</td>\n",
       "      <td>1.127242</td>\n",
       "      <td>3</td>\n",
       "      <td>0</td>\n",
       "      <td>-0.535683</td>\n",
       "    </tr>\n",
       "  </tbody>\n",
       "</table>\n",
       "<p>148 rows × 6 columns</p>\n",
       "</div>"
      ],
      "text/plain": [
       "     Company       Age    Salary  Place  Country    Gender\n",
       "0          4 -0.948501       NaN      2        0 -0.535683\n",
       "1          2 -0.043841       NaN      6        0 -0.535683\n",
       "2          4  0.408489 -1.175200      1        0 -0.535683\n",
       "3          2  0.860819 -0.902122      4        0 -0.535683\n",
       "4          4 -0.677103 -0.512010      6        0 -0.535683\n",
       "..       ...       ...       ...    ...      ...       ...\n",
       "143        4  0.227557  1.447914      1        0  1.866775\n",
       "144        2 -0.767569  1.355457      1        0  1.866775\n",
       "145        2  1.222683 -0.498746      4        0  1.866775\n",
       "146        4  0.227557 -0.108634      6        0  1.866775\n",
       "147        2 -0.767569  1.127242      3        0 -0.535683\n",
       "\n",
       "[148 rows x 6 columns]"
      ]
     },
     "execution_count": 293,
     "metadata": {},
     "output_type": "execute_result"
    }
   ],
   "source": [
    "#Covert Categorical variables to Numeric\n",
    "categorical_columns = ['Company','Place','Country']\n",
    "label_encoder = LabelEncoder()\n",
    "for column in categorical_columns:\n",
    "    df[column] = label_encoder.fit_transform(df[column])\n",
    "df"
   ]
  },
  {
   "cell_type": "markdown",
   "id": "05a49dab-becf-4133-a527-e19bab1c5262",
   "metadata": {},
   "source": [
    "###### FEATURE SCALING"
   ]
  },
  {
   "cell_type": "code",
   "execution_count": null,
   "id": "2ca676de-581e-4f88-bf35-4e7b2c2d6178",
   "metadata": {},
   "outputs": [],
   "source": [
    "# After the process of encoding, perform the scaling of the features using \n",
    "# standardscaler and minmaxscaler."
   ]
  },
  {
   "cell_type": "code",
   "execution_count": 242,
   "id": "b9426b4e-3da1-46e6-97b7-c85393f89427",
   "metadata": {},
   "outputs": [],
   "source": [
    "import pandas as pd\n",
    "from sklearn.preprocessing import StandardScaler \n",
    "from sklearn.preprocessing import MinMaxScaler"
   ]
  },
  {
   "cell_type": "code",
   "execution_count": 268,
   "id": "eb06651e-b4aa-4c7b-acbf-2966619b8058",
   "metadata": {},
   "outputs": [
    {
     "data": {
      "text/plain": [
       "array([[-0.94850107,         nan, -0.53568323],\n",
       "       [-0.04384121,         nan, -0.53568323],\n",
       "       [ 0.40848872, -1.17520019, -0.53568323],\n",
       "       [ 0.86081865, -0.90212171, -0.53568323],\n",
       "       [-0.67710311, -0.51200958, -0.53568323],\n",
       "       [        nan, -0.12189746, -0.53568323],\n",
       "       [        nan,  0.26821467,  1.86677489],\n",
       "       [-0.67710311,  0.6583268 ,  1.86677489],\n",
       "       [ 0.31802274,  1.04843892,  1.86677489],\n",
       "       [ 1.31314859,  1.43855105, -0.53568323],\n",
       "       [-0.67710311,         nan, -0.53568323],\n",
       "       [ 0.31802274, -1.64762598, -0.53568323],\n",
       "       [ 1.31314859,         nan, -0.53568323],\n",
       "       [-1.12943304, -1.59105972, -0.53568323],\n",
       "       [ 0.86081865, -0.90212171, -0.53568323],\n",
       "       [-0.67710311, -0.90212171, -0.53568323],\n",
       "       [-0.67710311, -0.89041834, -0.53568323],\n",
       "       [ 0.31802274, -0.12189746, -0.53568323],\n",
       "       [-0.7675691 ,         nan, -0.53568323],\n",
       "       [ 0.13709076,         nan, -0.53568323],\n",
       "       [ 0.5894207 , -0.88456666, -0.53568323],\n",
       "       [ 1.76547852, -0.83034108, -0.53568323],\n",
       "       [-0.85803509, -0.19055719, -0.53568323],\n",
       "       [        nan,  0.20384617, -0.53568323],\n",
       "       [        nan,  0.69109622,  1.86677489],\n",
       "       [-0.67710311,  1.41631466,  1.86677489],\n",
       "       [ 0.31802274,  1.18302761,  1.86677489],\n",
       "       [ 1.31314859,  1.54934289,  1.86677489],\n",
       "       [-0.67710311,  1.78028927,  1.86677489],\n",
       "       [ 0.40848872, -1.27897002, -0.53568323],\n",
       "       [ 1.40361457,  0.91346013, -0.53568323],\n",
       "       [-0.94850107, -0.92786911, -0.53568323],\n",
       "       [ 1.31314859, -0.49874577, -0.53568323],\n",
       "       [ 0.49895471, -0.10863364, -0.53568323],\n",
       "       [-0.40570515,  1.12724157, -0.53568323],\n",
       "       [ 0.40848872,  1.44791374,  1.86677489],\n",
       "       [ 0.13709076,         nan, -0.53568323],\n",
       "       [ 0.40848872,         nan, -0.53568323],\n",
       "       [ 0.31802274, -1.17520019, -0.53568323],\n",
       "       [ 0.95128464, -0.90212171, -0.53568323],\n",
       "       [-0.58663713, -0.3774209 , -0.53568323],\n",
       "       [        nan, -0.12189746, -0.53568323],\n",
       "       [        nan,  0.26821467, -0.53568323],\n",
       "       [-0.49617114,  0.6583268 , -0.53568323],\n",
       "       [ 0.40848872,  1.04843892,  1.86677489],\n",
       "       [ 1.40361457,  1.43855105,  1.86677489],\n",
       "       [-0.58663713,         nan, -0.53568323],\n",
       "       [ 0.13709076, -1.64762598, -0.53568323],\n",
       "       [ 1.13221661,         nan, -0.53568323],\n",
       "       [-1.03896706, -1.59105972, -0.53568323],\n",
       "       [ 0.95128464, -0.90212171, -0.53568323],\n",
       "       [-0.58663713, -0.90212171, -0.53568323],\n",
       "       [-0.85803509, -0.89041834, -0.53568323],\n",
       "       [ 0.40848872, -0.12189746, -0.53568323],\n",
       "       [-0.85803509,  0.48043567, -0.53568323],\n",
       "       [ 0.13709076,  0.91346013, -0.53568323],\n",
       "       [ 0.67988668, -0.88456666, -0.53568323],\n",
       "       [ 1.8559445 , -0.83034108, -0.53568323],\n",
       "       [-0.67710311, -0.19055719, -0.53568323],\n",
       "       [        nan,  0.20384617, -0.53568323],\n",
       "       [        nan,  0.69109622, -0.53568323],\n",
       "       [-0.49617114,  1.41631466,  1.86677489],\n",
       "       [ 0.49895471,  1.18302761,  1.86677489],\n",
       "       [ 0.95128464,  1.54934289,  1.86677489],\n",
       "       [-0.49617114,  0.48004556, -0.53568323],\n",
       "       [ 0.04662478, -1.27897002, -0.53568323],\n",
       "       [ 0.95128464,         nan, -0.53568323],\n",
       "       [-0.85803509, -0.92786911, -0.53568323],\n",
       "       [ 1.13221661, -0.49874577, -0.53568323],\n",
       "       [ 0.13709076, -0.10863364, -0.53568323],\n",
       "       [-0.85803509,  1.12724157, -0.53568323],\n",
       "       [ 0.31802274,  1.44791374,  1.86677489],\n",
       "       [-0.58663713,         nan, -0.53568323],\n",
       "       [ 0.31802274,         nan, -0.53568323],\n",
       "       [ 0.5894207 , -1.17520019, -0.53568323],\n",
       "       [ 1.2226826 , -0.90212171, -0.53568323],\n",
       "       [ 0.13709076, -0.51200958, -0.53568323],\n",
       "       [        nan, -0.12189746, -0.53568323],\n",
       "       [        nan,  0.26821467, -0.53568323],\n",
       "       [-0.40570515,  0.6583268 , -0.53568323],\n",
       "       [ 0.13709076,  1.04843892, -0.53568323],\n",
       "       [ 1.13221661,  1.43855105,  1.86677489],\n",
       "       [-0.7675691 ,         nan, -0.53568323],\n",
       "       [ 0.22755675, -1.64762598, -0.53568323],\n",
       "       [ 1.13221661,         nan, -0.53568323],\n",
       "       [-1.21989903, -1.59105972, -0.53568323],\n",
       "       [ 0.95128464, -0.90212171, -0.53568323],\n",
       "       [-0.85803509, -0.90212171, -0.53568323],\n",
       "       [-2.7578208 , -0.89041834, -0.53568323],\n",
       "       [ 0.49895471, -0.12189746, -0.53568323],\n",
       "       [-0.85803509,         nan, -0.53568323],\n",
       "       [ 0.31802274,         nan, -0.53568323],\n",
       "       [-2.7578208 , -0.88456666, -0.53568323],\n",
       "       [ 2.12734246, -0.83034108, -0.53568323],\n",
       "       [-0.7675691 , -0.19055719, -0.53568323],\n",
       "       [        nan,  0.20384617, -0.53568323],\n",
       "       [        nan,  0.69109622,  1.86677489],\n",
       "       [-0.7675691 ,  1.41631466,  1.86677489],\n",
       "       [ 0.22755675,  1.18302761,  1.86677489],\n",
       "       [ 1.2226826 ,  1.54934289,  1.86677489],\n",
       "       [-0.7675691 ,         nan, -0.53568323],\n",
       "       [-2.7578208 , -1.27897002, -0.53568323],\n",
       "       [ 1.2226826 ,         nan, -0.53568323],\n",
       "       [-0.7675691 , -0.92786911, -0.53568323],\n",
       "       [ 1.2226826 , -0.49874577, -0.53568323],\n",
       "       [ 0.22755675, -0.10863364, -0.53568323],\n",
       "       [-0.7675691 ,  1.12724157,  1.86677489],\n",
       "       [-2.7578208 ,  1.44791374,  1.86677489],\n",
       "       [ 0.22755675,         nan, -0.53568323],\n",
       "       [ 0.22755675,         nan, -0.53568323],\n",
       "       [ 0.22755675, -1.17520019, -0.53568323],\n",
       "       [-2.7578208 , -0.81083547, -0.53568323],\n",
       "       [-0.7675691 , -0.38561325, -0.53568323],\n",
       "       [        nan,  0.04780132, -0.53568323],\n",
       "       [        nan,  0.09461477, -0.53568323],\n",
       "       [-0.7675691 ,  1.35545717, -0.53568323],\n",
       "       [ 0.22755675,  1.35545717,  1.86677489],\n",
       "       [ 1.2226826 ,  1.78028927,  1.86677489],\n",
       "       [-0.7675691 ,         nan, -0.53568323],\n",
       "       [ 0.22755675, -1.64762598, -0.53568323],\n",
       "       [ 1.2226826 ,         nan, -0.53568323],\n",
       "       [-2.7578208 , -1.59105972, -0.53568323],\n",
       "       [ 1.2226826 , -0.81083547, -0.53568323],\n",
       "       [        nan, -0.7250108 , -0.53568323],\n",
       "       [-0.7675691 ,  1.35545717,  1.86677489],\n",
       "       [ 0.22755675,  0.13323588,  1.86677489],\n",
       "       [-0.94850107, -0.11838645,  1.86677489],\n",
       "       [-0.04384121, -0.08366647, -0.53568323],\n",
       "       [ 0.22755675, -0.88456666, -0.53568323],\n",
       "       [ 1.76547852, -0.83034108, -0.53568323],\n",
       "       [-0.85803509, -0.19055719, -0.53568323],\n",
       "       [        nan,  0.20384617, -0.53568323],\n",
       "       [        nan,  0.69109622,  1.86677489],\n",
       "       [-0.7675691 ,  1.41631466, -0.53568323],\n",
       "       [ 0.04662478,  1.18302761, -0.53568323],\n",
       "       [ 0.86081865,  1.54934289,  1.86677489],\n",
       "       [        nan,         nan, -0.53568323],\n",
       "       [ 0.04662478, -1.27897002, -0.53568323],\n",
       "       [ 1.2226826 , -0.88924801, -0.53568323],\n",
       "       [-0.7675691 , -0.92786911, -0.53568323],\n",
       "       [ 1.2226826 , -0.49874577, -0.53568323],\n",
       "       [ 0.22755675, -0.10863364, -0.53568323],\n",
       "       [-0.7675691 ,  1.12724157, -0.53568323],\n",
       "       [ 0.22755675,  1.44791374,  1.86677489],\n",
       "       [-0.7675691 ,  1.35545717,  1.86677489],\n",
       "       [ 1.2226826 , -0.49874577,  1.86677489],\n",
       "       [ 0.22755675, -0.10863364,  1.86677489],\n",
       "       [-0.7675691 ,  1.12724157, -0.53568323]])"
      ]
     },
     "execution_count": 268,
     "metadata": {},
     "output_type": "execute_result"
    }
   ],
   "source": [
    "#STANDARD SCALER\n",
    "numeric_columns=df.select_dtypes(include=['int64','float']).columns\n",
    "scaler = StandardScaler()\n",
    "scaled_data= scaler.fit_transform(df[numeric_columns])\n",
    "scaled_data"
   ]
  },
  {
   "cell_type": "code",
   "execution_count": 270,
   "id": "dd4253b4-c943-4fdc-a9d8-928a6008b75d",
   "metadata": {},
   "outputs": [
    {
     "name": "stdout",
     "output_type": "stream",
     "text": [
      "[[0.37037037        nan 0.        ]\n",
      " [0.55555556        nan 0.        ]\n",
      " [0.64814815 0.13781723 0.        ]\n",
      " [0.74074074 0.21748037 0.        ]\n",
      " [0.42592593 0.33128485 0.        ]\n",
      " [       nan 0.44508934 0.        ]\n",
      " [       nan 0.55889382 1.        ]\n",
      " [0.42592593 0.6726983  1.        ]\n",
      " [0.62962963 0.78650279 1.        ]\n",
      " [0.83333333 0.90030727 0.        ]\n",
      " [0.42592593        nan 0.        ]\n",
      " [0.62962963 0.         0.        ]\n",
      " [0.83333333        nan 0.        ]\n",
      " [0.33333333 0.01650165 0.        ]\n",
      " [0.74074074 0.21748037 0.        ]\n",
      " [0.42592593 0.21748037 0.        ]\n",
      " [0.42592593 0.2208945  0.        ]\n",
      " [0.62962963 0.44508934 0.        ]\n",
      " [0.40740741        nan 0.        ]\n",
      " [0.59259259        nan 0.        ]\n",
      " [0.68518519 0.22260157 0.        ]\n",
      " [0.92592593 0.23842039 0.        ]\n",
      " [0.38888889 0.42505975 0.        ]\n",
      " [       nan 0.54011608 0.        ]\n",
      " [       nan 0.68225788 1.        ]\n",
      " [0.42592593 0.89382042 1.        ]\n",
      " [0.62962963 0.82576534 1.        ]\n",
      " [0.83333333 0.93262775 1.        ]\n",
      " [0.42592593 1.         1.        ]\n",
      " [0.64814815 0.10754524 0.        ]\n",
      " [0.85185185 0.74712644 0.        ]\n",
      " [0.37037037 0.20996927 0.        ]\n",
      " [0.83333333 0.33515421 0.        ]\n",
      " [0.66666667 0.44895869 0.        ]\n",
      " [0.48148148 0.80949129 0.        ]\n",
      " [0.64814815 0.90303858 1.        ]\n",
      " [0.59259259        nan 0.        ]\n",
      " [0.64814815        nan 0.        ]\n",
      " [0.62962963 0.13781723 0.        ]\n",
      " [0.75925926 0.21748037 0.        ]\n",
      " [0.44444444 0.3705474  0.        ]\n",
      " [       nan 0.44508934 0.        ]\n",
      " [       nan 0.55889382 0.        ]\n",
      " [0.46296296 0.6726983  0.        ]\n",
      " [0.64814815 0.78650279 1.        ]\n",
      " [0.85185185 0.90030727 1.        ]\n",
      " [0.44444444        nan 0.        ]\n",
      " [0.59259259 0.         0.        ]\n",
      " [0.7962963         nan 0.        ]\n",
      " [0.35185185 0.01650165 0.        ]\n",
      " [0.75925926 0.21748037 0.        ]\n",
      " [0.44444444 0.21748037 0.        ]\n",
      " [0.38888889 0.2208945  0.        ]\n",
      " [0.64814815 0.44508934 0.        ]\n",
      " [0.38888889 0.62080346 0.        ]\n",
      " [0.59259259 0.74712644 0.        ]\n",
      " [0.7037037  0.22260157 0.        ]\n",
      " [0.94444444 0.23842039 0.        ]\n",
      " [0.42592593 0.42505975 0.        ]\n",
      " [       nan 0.54011608 0.        ]\n",
      " [       nan 0.68225788 0.        ]\n",
      " [0.46296296 0.89382042 1.        ]\n",
      " [0.66666667 0.82576534 1.        ]\n",
      " [0.75925926 0.93262775 1.        ]\n",
      " [0.46296296 0.62068966 0.        ]\n",
      " [0.57407407 0.10754524 0.        ]\n",
      " [0.75925926        nan 0.        ]\n",
      " [0.38888889 0.20996927 0.        ]\n",
      " [0.7962963  0.33515421 0.        ]\n",
      " [0.59259259 0.44895869 0.        ]\n",
      " [0.38888889 0.80949129 0.        ]\n",
      " [0.62962963 0.90303858 1.        ]\n",
      " [0.44444444        nan 0.        ]\n",
      " [0.62962963        nan 0.        ]\n",
      " [0.68518519 0.13781723 0.        ]\n",
      " [0.81481481 0.21748037 0.        ]\n",
      " [0.59259259 0.33128485 0.        ]\n",
      " [       nan 0.44508934 0.        ]\n",
      " [       nan 0.55889382 0.        ]\n",
      " [0.48148148 0.6726983  0.        ]\n",
      " [0.59259259 0.78650279 0.        ]\n",
      " [0.7962963  0.90030727 1.        ]\n",
      " [0.40740741        nan 0.        ]\n",
      " [0.61111111 0.         0.        ]\n",
      " [0.7962963         nan 0.        ]\n",
      " [0.31481481 0.01650165 0.        ]\n",
      " [0.75925926 0.21748037 0.        ]\n",
      " [0.38888889 0.21748037 0.        ]\n",
      " [0.         0.2208945  0.        ]\n",
      " [0.66666667 0.44508934 0.        ]\n",
      " [0.38888889        nan 0.        ]\n",
      " [0.62962963        nan 0.        ]\n",
      " [0.         0.22260157 0.        ]\n",
      " [1.         0.23842039 0.        ]\n",
      " [0.40740741 0.42505975 0.        ]\n",
      " [       nan 0.54011608 0.        ]\n",
      " [       nan 0.68225788 1.        ]\n",
      " [0.40740741 0.89382042 1.        ]\n",
      " [0.61111111 0.82576534 1.        ]\n",
      " [0.81481481 0.93262775 1.        ]\n",
      " [0.40740741        nan 0.        ]\n",
      " [0.         0.10754524 0.        ]\n",
      " [0.81481481        nan 0.        ]\n",
      " [0.40740741 0.20996927 0.        ]\n",
      " [0.81481481 0.33515421 0.        ]\n",
      " [0.61111111 0.44895869 0.        ]\n",
      " [0.40740741 0.80949129 1.        ]\n",
      " [0.         0.90303858 1.        ]\n",
      " [0.61111111        nan 0.        ]\n",
      " [0.61111111        nan 0.        ]\n",
      " [0.61111111 0.13781723 0.        ]\n",
      " [0.         0.24411062 0.        ]\n",
      " [0.40740741 0.36815751 0.        ]\n",
      " [       nan 0.49459429 0.        ]\n",
      " [       nan 0.50825083 0.        ]\n",
      " [0.40740741 0.87606692 0.        ]\n",
      " [0.61111111 0.87606692 1.        ]\n",
      " [0.81481481 1.         1.        ]\n",
      " [0.40740741        nan 0.        ]\n",
      " [0.61111111 0.         0.        ]\n",
      " [0.81481481        nan 0.        ]\n",
      " [0.         0.01650165 0.        ]\n",
      " [0.81481481 0.24411062 0.        ]\n",
      " [       nan 0.2691476  0.        ]\n",
      " [0.40740741 0.87606692 1.        ]\n",
      " [0.61111111 0.51951747 1.        ]\n",
      " [0.37037037 0.44611358 1.        ]\n",
      " [0.55555556 0.45624218 0.        ]\n",
      " [0.61111111 0.22260157 0.        ]\n",
      " [0.92592593 0.23842039 0.        ]\n",
      " [0.38888889 0.42505975 0.        ]\n",
      " [       nan 0.54011608 0.        ]\n",
      " [       nan 0.68225788 1.        ]\n",
      " [0.40740741 0.89382042 0.        ]\n",
      " [0.57407407 0.82576534 0.        ]\n",
      " [0.74074074 0.93262775 1.        ]\n",
      " [       nan        nan 0.        ]\n",
      " [0.57407407 0.10754524 0.        ]\n",
      " [0.81481481 0.22123592 0.        ]\n",
      " [0.40740741 0.20996927 0.        ]\n",
      " [0.81481481 0.33515421 0.        ]\n",
      " [0.61111111 0.44895869 0.        ]\n",
      " [0.40740741 0.80949129 0.        ]\n",
      " [0.61111111 0.90303858 1.        ]\n",
      " [0.40740741 0.87606692 1.        ]\n",
      " [0.81481481 0.33515421 1.        ]\n",
      " [0.61111111 0.44895869 1.        ]\n",
      " [0.40740741 0.80949129 0.        ]]\n"
     ]
    }
   ],
   "source": [
    "#MIN MAX SCALER\n",
    "numeric_columns=df.select_dtypes(include=['int64','float']).columns\n",
    "Scaler = MinMaxScaler()\n",
    "Scaled_data = Scaler.fit_transform(df[numeric_columns])\n",
    "print(Scaled_data)"
   ]
  },
  {
   "cell_type": "code",
   "execution_count": null,
   "id": "8857ea0d-a684-4fc1-8e01-dabcc1028cf0",
   "metadata": {},
   "outputs": [],
   "source": []
  }
 ],
 "metadata": {
  "kernelspec": {
   "display_name": "Python 3 (ipykernel)",
   "language": "python",
   "name": "python3"
  },
  "language_info": {
   "codemirror_mode": {
    "name": "ipython",
    "version": 3
   },
   "file_extension": ".py",
   "mimetype": "text/x-python",
   "name": "python",
   "nbconvert_exporter": "python",
   "pygments_lexer": "ipython3",
   "version": "3.12.4"
  }
 },
 "nbformat": 4,
 "nbformat_minor": 5
}
